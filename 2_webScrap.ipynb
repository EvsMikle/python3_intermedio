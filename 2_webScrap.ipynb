{
 "cells": [
  {
   "cell_type": "code",
   "execution_count": 1,
   "metadata": {},
   "outputs": [],
   "source": [
    "from bs4 import BeautifulSoup\n",
    "import requests\n",
    "import pandas as pd"
   ]
  },
  {
   "cell_type": "markdown",
   "metadata": {},
   "source": [
    "# Extraccion de la fuente de la pagina web"
   ]
  },
  {
   "cell_type": "markdown",
   "metadata": {},
   "source": [
    "Obtenemos respuesta de la web y extraemos el codigo fuente de la misma"
   ]
  },
  {
   "cell_type": "code",
   "execution_count": 2,
   "metadata": {},
   "outputs": [],
   "source": [
    "page = requests.get('http://books.toscrape.com/')\n",
    "soup = BeautifulSoup(page.text, 'html.parser')"
   ]
  },
  {
   "cell_type": "markdown",
   "metadata": {},
   "source": [
    "Seleccionamos lo que sacaqueremos en la pagina web y hacemos una lista general de lo que se sacara"
   ]
  },
  {
   "cell_type": "code",
   "execution_count": 3,
   "metadata": {},
   "outputs": [],
   "source": [
    "info_book = soup.find_all('article', {'class':'product_pod'})"
   ]
  },
  {
   "cell_type": "markdown",
   "metadata": {},
   "source": [
    "Buscamos con las etiquetas de html la informacion y extraemos solo el texto de la informacion, para guardarla en una lista aparte"
   ]
  },
  {
   "cell_type": "code",
   "execution_count": 4,
   "metadata": {},
   "outputs": [],
   "source": [
    "titulo = []\n",
    "precio = []\n",
    "stock = []\n",
    "ratings = []\n",
    "\n",
    "for item in info_book:\n",
    "    titulo.append(item.h3.a['title'])\n",
    "    \n",
    "    aux = item.find('p', {'class': 'price_color'})\n",
    "    precio.append(aux.text)\n",
    "    \n",
    "    aux = item.find('p', {'class': 'instock availability'})\n",
    "    stock.append(aux.text)\n",
    "    \n",
    "    aux = item.find('p', {'class': 'star-rating'})\n",
    "    ratings.append(aux['class'][1])\n"
   ]
  },
  {
   "cell_type": "markdown",
   "metadata": {},
   "source": [
    "Por ultimo guardamos la informacion en un DataFrame"
   ]
  },
  {
   "cell_type": "code",
   "execution_count": 5,
   "metadata": {},
   "outputs": [],
   "source": [
    "diccionario = {'title':titulo,\n",
    "               'price':precio,\n",
    "               'rating':ratings,\n",
    "               'in_stock':stock}\n",
    "df = pd.DataFrame(diccionario)"
   ]
  },
  {
   "cell_type": "code",
   "execution_count": 7,
   "metadata": {},
   "outputs": [
    {
     "data": {
      "text/html": [
       "<div>\n",
       "<style scoped>\n",
       "    .dataframe tbody tr th:only-of-type {\n",
       "        vertical-align: middle;\n",
       "    }\n",
       "\n",
       "    .dataframe tbody tr th {\n",
       "        vertical-align: top;\n",
       "    }\n",
       "\n",
       "    .dataframe thead th {\n",
       "        text-align: right;\n",
       "    }\n",
       "</style>\n",
       "<table border=\"1\" class=\"dataframe\">\n",
       "  <thead>\n",
       "    <tr style=\"text-align: right;\">\n",
       "      <th></th>\n",
       "      <th>title</th>\n",
       "      <th>price</th>\n",
       "      <th>rating</th>\n",
       "      <th>in_stock</th>\n",
       "    </tr>\n",
       "  </thead>\n",
       "  <tbody>\n",
       "    <tr>\n",
       "      <th>0</th>\n",
       "      <td>A Light in the Attic</td>\n",
       "      <td>Â£51.77</td>\n",
       "      <td>Three</td>\n",
       "      <td>\\n\\n    \\n        In stock\\n    \\n</td>\n",
       "    </tr>\n",
       "    <tr>\n",
       "      <th>1</th>\n",
       "      <td>Tipping the Velvet</td>\n",
       "      <td>Â£53.74</td>\n",
       "      <td>One</td>\n",
       "      <td>\\n\\n    \\n        In stock\\n    \\n</td>\n",
       "    </tr>\n",
       "    <tr>\n",
       "      <th>2</th>\n",
       "      <td>Soumission</td>\n",
       "      <td>Â£50.10</td>\n",
       "      <td>One</td>\n",
       "      <td>\\n\\n    \\n        In stock\\n    \\n</td>\n",
       "    </tr>\n",
       "    <tr>\n",
       "      <th>3</th>\n",
       "      <td>Sharp Objects</td>\n",
       "      <td>Â£47.82</td>\n",
       "      <td>Four</td>\n",
       "      <td>\\n\\n    \\n        In stock\\n    \\n</td>\n",
       "    </tr>\n",
       "    <tr>\n",
       "      <th>4</th>\n",
       "      <td>Sapiens: A Brief History of Humankind</td>\n",
       "      <td>Â£54.23</td>\n",
       "      <td>Five</td>\n",
       "      <td>\\n\\n    \\n        In stock\\n    \\n</td>\n",
       "    </tr>\n",
       "  </tbody>\n",
       "</table>\n",
       "</div>"
      ],
      "text/plain": [
       "                                   title    price rating  \\\n",
       "0                   A Light in the Attic  Â£51.77  Three   \n",
       "1                     Tipping the Velvet  Â£53.74    One   \n",
       "2                             Soumission  Â£50.10    One   \n",
       "3                          Sharp Objects  Â£47.82   Four   \n",
       "4  Sapiens: A Brief History of Humankind  Â£54.23   Five   \n",
       "\n",
       "                             in_stock  \n",
       "0  \\n\\n    \\n        In stock\\n    \\n  \n",
       "1  \\n\\n    \\n        In stock\\n    \\n  \n",
       "2  \\n\\n    \\n        In stock\\n    \\n  \n",
       "3  \\n\\n    \\n        In stock\\n    \\n  \n",
       "4  \\n\\n    \\n        In stock\\n    \\n  "
      ]
     },
     "execution_count": 7,
     "metadata": {},
     "output_type": "execute_result"
    }
   ],
   "source": [
    "df.head()"
   ]
  }
 ],
 "metadata": {
  "kernelspec": {
   "display_name": "data",
   "language": "python",
   "name": "python3"
  },
  "language_info": {
   "codemirror_mode": {
    "name": "ipython",
    "version": 3
   },
   "file_extension": ".py",
   "mimetype": "text/x-python",
   "name": "python",
   "nbconvert_exporter": "python",
   "pygments_lexer": "ipython3",
   "version": "3.11.2"
  },
  "orig_nbformat": 4
 },
 "nbformat": 4,
 "nbformat_minor": 2
}
